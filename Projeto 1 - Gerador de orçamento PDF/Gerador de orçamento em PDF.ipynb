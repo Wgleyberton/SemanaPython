{
 "cells": [
  {
   "cell_type": "markdown",
   "id": "49db7a13",
   "metadata": {},
   "source": [
    "# Inputs"
   ]
  },
  {
   "cell_type": "code",
   "execution_count": 6,
   "id": "2e3c4d55",
   "metadata": {},
   "outputs": [
    {
     "name": "stdout",
     "output_type": "stream",
     "text": [
      "Digite a descrição do projeto: Desenvolvimento de projeto de orçamento em python\n",
      "Digite a quantidade de horas estimadas: 150\n",
      "Digite o valor da hora trabalhada: 60\n",
      "Digite o prazo estimado: 3 meses\n"
     ]
    }
   ],
   "source": [
    "descricaoProjeto = input(\"Digite a descrição do projeto: \")\n",
    "horasEstimadas = input(\"Digite a quantidade de horas estimadas: \")\n",
    "valorHora = input(\"Digite o valor da hora trabalhada: \")\n",
    "prazo = input(\"Digite o prazo estimado: \")\n",
    "\n",
    "valorTotal = int(horasEstimadas) * int(valorHora)\n",
    "valorTotal = str(valorTotal)\n"
   ]
  },
  {
   "cell_type": "markdown",
   "id": "a9d0d808",
   "metadata": {},
   "source": [
    "# Instalando FPDF"
   ]
  },
  {
   "cell_type": "code",
   "execution_count": 1,
   "id": "8efadd29",
   "metadata": {},
   "outputs": [
    {
     "name": "stdout",
     "output_type": "stream",
     "text": [
      "Requirement already satisfied: fpdf in c:\\users\\wgley\\appdata\\roaming\\python\\python39\\site-packages (1.7.2)\n"
     ]
    }
   ],
   "source": [
    "!pip install fpdf"
   ]
  },
  {
   "cell_type": "markdown",
   "id": "d1c7f626",
   "metadata": {},
   "source": [
    "# Gerando o PDF"
   ]
  },
  {
   "cell_type": "code",
   "execution_count": 3,
   "id": "01f025eb",
   "metadata": {},
   "outputs": [],
   "source": [
    "from fpdf import FPDF"
   ]
  },
  {
   "cell_type": "code",
   "execution_count": 7,
   "id": "298df478",
   "metadata": {},
   "outputs": [
    {
     "name": "stdout",
     "output_type": "stream",
     "text": [
      "Orçamento gerado com sucesso! \n"
     ]
    }
   ],
   "source": [
    "pdf = FPDF()\n",
    "pdf.add_page()\n",
    "pdf.set_font(\"Arial\")\n",
    "\n",
    "pdf.image(\"template.png\", x=0, y=0)\n",
    "\n",
    "pdf.text(115, 145, descricaoProjeto)\n",
    "pdf.text(115, 160, horasEstimadas)\n",
    "pdf.text(115, 175, valorHora)\n",
    "pdf.text(115, 190, prazo)\n",
    "pdf.text(115, 205, valorTotal)\n",
    "\n",
    "pdf.output(\"Orçamento.pdf\")\n",
    "print(\"Orçamento gerado com sucesso! \")\n"
   ]
  },
  {
   "cell_type": "code",
   "execution_count": null,
   "id": "6da4efd2",
   "metadata": {},
   "outputs": [],
   "source": []
  }
 ],
 "metadata": {
  "kernelspec": {
   "display_name": "Python 3 (ipykernel)",
   "language": "python",
   "name": "python3"
  },
  "language_info": {
   "codemirror_mode": {
    "name": "ipython",
    "version": 3
   },
   "file_extension": ".py",
   "mimetype": "text/x-python",
   "name": "python",
   "nbconvert_exporter": "python",
   "pygments_lexer": "ipython3",
   "version": "3.9.13"
  }
 },
 "nbformat": 4,
 "nbformat_minor": 5
}
